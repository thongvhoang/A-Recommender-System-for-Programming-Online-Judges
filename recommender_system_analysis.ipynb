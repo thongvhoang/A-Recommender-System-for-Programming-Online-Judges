{
  "nbformat": 4,
  "nbformat_minor": 0,
  "metadata": {
    "colab": {
      "name": "recommender-system-analysis.ipynb",
      "provenance": [],
      "collapsed_sections": [],
      "toc_visible": true
    },
    "kernelspec": {
      "name": "python3",
      "display_name": "Python 3"
    },
    "accelerator": "TPU"
  },
  "cells": [
    {
      "cell_type": "code",
      "metadata": {
        "id": "ePvr8EXTj6GX",
        "colab_type": "code",
        "outputId": "1bf1e253-6cd2-46ce-cf19-d95312c2fca9",
        "colab": {
          "base_uri": "https://localhost:8080/",
          "height": 127
        }
      },
      "source": [
        "from google.colab import drive\n",
        "drive.mount('/content/drive')"
      ],
      "execution_count": 0,
      "outputs": [
        {
          "output_type": "stream",
          "text": [
            "Go to this URL in a browser: https://accounts.google.com/o/oauth2/auth?client_id=947318989803-6bn6qk8qdgf4n4g3pfee6491hc0brc4i.apps.googleusercontent.com&redirect_uri=urn%3aietf%3awg%3aoauth%3a2.0%3aoob&response_type=code&scope=email%20https%3a%2f%2fwww.googleapis.com%2fauth%2fdocs.test%20https%3a%2f%2fwww.googleapis.com%2fauth%2fdrive%20https%3a%2f%2fwww.googleapis.com%2fauth%2fdrive.photos.readonly%20https%3a%2f%2fwww.googleapis.com%2fauth%2fpeopleapi.readonly\n",
            "\n",
            "Enter your authorization code:\n",
            "··········\n",
            "Mounted at /content/drive\n"
          ],
          "name": "stdout"
        }
      ]
    },
    {
      "cell_type": "code",
      "metadata": {
        "id": "EAjjq_U8Y5xv",
        "colab_type": "code",
        "outputId": "a6848bb1-8822-4c3c-8ed6-1f0c7b16ac44",
        "colab": {
          "base_uri": "https://localhost:8080/",
          "height": 143
        }
      },
      "source": [
        "!apt-get update -qq 2>&1 > /dev/null\n",
        "!apt-get install -y -qq software-properties-common python-software-properties module-init-tools\n",
        "!add-apt-repository -y ppa:alessandro-strada/ppa 2>&1 > /dev/null\n",
        "!apt-get update -qq 2>&1 > /dev/null\n",
        "!apt-get -y install -qq google-drive-ocamlfuse fuse "
      ],
      "execution_count": 0,
      "outputs": [
        {
          "output_type": "stream",
          "text": [
            "E: Package 'python-software-properties' has no installation candidate\n",
            "Selecting previously unselected package google-drive-ocamlfuse.\n",
            "(Reading database ... 134448 files and directories currently installed.)\n",
            "Preparing to unpack .../google-drive-ocamlfuse_0.7.18-0ubuntu1~ubuntu18.04.1_amd64.deb ...\n",
            "Unpacking google-drive-ocamlfuse (0.7.18-0ubuntu1~ubuntu18.04.1) ...\n",
            "Setting up google-drive-ocamlfuse (0.7.18-0ubuntu1~ubuntu18.04.1) ...\n",
            "Processing triggers for man-db (2.8.3-2ubuntu0.1) ...\n"
          ],
          "name": "stdout"
        }
      ]
    },
    {
      "cell_type": "code",
      "metadata": {
        "id": "Qvc5BQ-BMQXL",
        "colab_type": "code",
        "outputId": "e17ca55d-3390-4c9c-a74e-de72138645a8",
        "colab": {
          "base_uri": "https://localhost:8080/",
          "height": 530
        }
      },
      "source": [
        "!python -m pip install featuretools"
      ],
      "execution_count": 0,
      "outputs": [
        {
          "output_type": "stream",
          "text": [
            "Requirement already satisfied: featuretools in /usr/local/lib/python3.6/dist-packages (0.4.1)\n",
            "Requirement already satisfied: toolz>=0.8.2 in /usr/local/lib/python3.6/dist-packages (from featuretools) (0.10.0)\n",
            "Requirement already satisfied: cloudpickle>=0.4.0 in /usr/local/lib/python3.6/dist-packages (from featuretools) (1.3.0)\n",
            "Requirement already satisfied: pyyaml>=3.12 in /usr/local/lib/python3.6/dist-packages (from featuretools) (3.13)\n",
            "Requirement already satisfied: numpy>=1.13.3 in /usr/local/lib/python3.6/dist-packages (from featuretools) (1.18.2)\n",
            "Requirement already satisfied: tqdm>=4.19.2 in /usr/local/lib/python3.6/dist-packages (from featuretools) (4.38.0)\n",
            "Requirement already satisfied: s3fs>=0.1.2 in /usr/local/lib/python3.6/dist-packages (from featuretools) (0.4.0)\n",
            "Requirement already satisfied: pandas>=0.23.0 in /usr/local/lib/python3.6/dist-packages (from featuretools) (0.25.3)\n",
            "Requirement already satisfied: psutil>=5.4.8 in /usr/local/lib/python3.6/dist-packages (from featuretools) (5.4.8)\n",
            "Requirement already satisfied: dask>=0.19.4 in /usr/local/lib/python3.6/dist-packages (from featuretools) (2.12.0)\n",
            "Requirement already satisfied: distributed>=1.24.2 in /usr/local/lib/python3.6/dist-packages (from featuretools) (1.25.3)\n",
            "Requirement already satisfied: future>=0.16.0 in /usr/local/lib/python3.6/dist-packages (from featuretools) (0.16.0)\n",
            "Requirement already satisfied: fsspec>=0.6.0 in /usr/local/lib/python3.6/dist-packages (from s3fs>=0.1.2->featuretools) (0.6.2)\n",
            "Requirement already satisfied: botocore>=1.12.91 in /usr/local/lib/python3.6/dist-packages (from s3fs>=0.1.2->featuretools) (1.15.23)\n",
            "Requirement already satisfied: boto3>=1.9.91 in /usr/local/lib/python3.6/dist-packages (from s3fs>=0.1.2->featuretools) (1.12.23)\n",
            "Requirement already satisfied: python-dateutil>=2.6.1 in /usr/local/lib/python3.6/dist-packages (from pandas>=0.23.0->featuretools) (2.8.1)\n",
            "Requirement already satisfied: pytz>=2017.2 in /usr/local/lib/python3.6/dist-packages (from pandas>=0.23.0->featuretools) (2018.9)\n",
            "Requirement already satisfied: six in /usr/local/lib/python3.6/dist-packages (from distributed>=1.24.2->featuretools) (1.12.0)\n",
            "Requirement already satisfied: tblib in /usr/local/lib/python3.6/dist-packages (from distributed>=1.24.2->featuretools) (1.6.0)\n",
            "Requirement already satisfied: click>=6.6 in /usr/local/lib/python3.6/dist-packages (from distributed>=1.24.2->featuretools) (7.1.1)\n",
            "Requirement already satisfied: sortedcontainers!=2.0.0,!=2.0.1 in /usr/local/lib/python3.6/dist-packages (from distributed>=1.24.2->featuretools) (2.1.0)\n",
            "Requirement already satisfied: tornado>=4.5.1 in /usr/local/lib/python3.6/dist-packages (from distributed>=1.24.2->featuretools) (4.5.3)\n",
            "Requirement already satisfied: zict>=0.1.3 in /usr/local/lib/python3.6/dist-packages (from distributed>=1.24.2->featuretools) (2.0.0)\n",
            "Requirement already satisfied: msgpack in /usr/local/lib/python3.6/dist-packages (from distributed>=1.24.2->featuretools) (1.0.0)\n",
            "Requirement already satisfied: jmespath<1.0.0,>=0.7.1 in /usr/local/lib/python3.6/dist-packages (from botocore>=1.12.91->s3fs>=0.1.2->featuretools) (0.9.5)\n",
            "Requirement already satisfied: urllib3<1.26,>=1.20; python_version != \"3.4\" in /usr/local/lib/python3.6/dist-packages (from botocore>=1.12.91->s3fs>=0.1.2->featuretools) (1.24.3)\n",
            "Requirement already satisfied: docutils<0.16,>=0.10 in /usr/local/lib/python3.6/dist-packages (from botocore>=1.12.91->s3fs>=0.1.2->featuretools) (0.15.2)\n",
            "Requirement already satisfied: s3transfer<0.4.0,>=0.3.0 in /usr/local/lib/python3.6/dist-packages (from boto3>=1.9.91->s3fs>=0.1.2->featuretools) (0.3.3)\n",
            "Requirement already satisfied: heapdict in /usr/local/lib/python3.6/dist-packages (from zict>=0.1.3->distributed>=1.24.2->featuretools) (1.0.1)\n"
          ],
          "name": "stdout"
        }
      ]
    },
    {
      "cell_type": "code",
      "metadata": {
        "id": "ncqrSNcdqNDy",
        "colab_type": "code",
        "outputId": "b0ea8c6e-3dfe-4cfc-b184-6cd69515f42d",
        "colab": {
          "base_uri": "https://localhost:8080/",
          "height": 119
        }
      },
      "source": [
        "!git clone https://github.com/thongvhoang/A-Recommender-System-for-Programming-Online-Judges.git recommender-system"
      ],
      "execution_count": 0,
      "outputs": [
        {
          "output_type": "stream",
          "text": [
            "Cloning into 'recommender-system'...\n",
            "remote: Enumerating objects: 10, done.\u001b[K\n",
            "remote: Counting objects:  10% (1/10)\u001b[K\rremote: Counting objects:  20% (2/10)\u001b[K\rremote: Counting objects:  30% (3/10)\u001b[K\rremote: Counting objects:  40% (4/10)\u001b[K\rremote: Counting objects:  50% (5/10)\u001b[K\rremote: Counting objects:  60% (6/10)\u001b[K\rremote: Counting objects:  70% (7/10)\u001b[K\rremote: Counting objects:  80% (8/10)\u001b[K\rremote: Counting objects:  90% (9/10)\u001b[K\rremote: Counting objects: 100% (10/10)\u001b[K\rremote: Counting objects: 100% (10/10), done.\u001b[K\n",
            "remote: Compressing objects:  12% (1/8)\u001b[K\rremote: Compressing objects:  25% (2/8)\u001b[K\rremote: Compressing objects:  37% (3/8)\u001b[K\rremote: Compressing objects:  50% (4/8)\u001b[K\rremote: Compressing objects:  62% (5/8)\u001b[K\rremote: Compressing objects:  75% (6/8)\u001b[K\rremote: Compressing objects:  87% (7/8)\u001b[K\rremote: Compressing objects: 100% (8/8)\u001b[K\rremote: Compressing objects: 100% (8/8), done.\u001b[K\n",
            "Unpacking objects:  10% (1/10)   \rUnpacking objects:  20% (2/10)   \rUnpacking objects:  30% (3/10)   \rUnpacking objects:  40% (4/10)   \rUnpacking objects:  50% (5/10)   \rUnpacking objects:  60% (6/10)   \rUnpacking objects:  70% (7/10)   \rUnpacking objects:  80% (8/10)   \rremote: Total 10 (delta 0), reused 10 (delta 0), pack-reused 0\u001b[K\n",
            "Unpacking objects:  90% (9/10)   \rUnpacking objects: 100% (10/10)   \rUnpacking objects: 100% (10/10), done.\n"
          ],
          "name": "stdout"
        }
      ]
    },
    {
      "cell_type": "code",
      "metadata": {
        "id": "eKZJcYwQ9aDm",
        "colab_type": "code",
        "colab": {}
      },
      "source": [
        "import pandas as pd\n",
        "import matplotlib.pyplot as plt\n",
        "import seaborn as sns\n",
        "\n",
        "user = pd.read_csv('recommender-system/data/user_data.csv')\n",
        "problem = pd.read_csv('recommender-system/data/problem_data.csv')\n",
        "submission = pd.read_csv('recommender-system/data/train_submissions.csv')"
      ],
      "execution_count": 0,
      "outputs": []
    },
    {
      "cell_type": "code",
      "metadata": {
        "id": "2kdVxR1sKkqR",
        "colab_type": "code",
        "colab": {}
      },
      "source": [
        "import featuretools as ft"
      ],
      "execution_count": 0,
      "outputs": []
    },
    {
      "cell_type": "code",
      "metadata": {
        "colab_type": "code",
        "outputId": "dc10c331-3bae-44ea-da96-69e0d21bf63e",
        "id": "LwZjzYUrP6E7",
        "colab": {
          "base_uri": "https://localhost:8080/",
          "height": 224
        }
      },
      "source": [
        "user.head(5)"
      ],
      "execution_count": 0,
      "outputs": [
        {
          "output_type": "execute_result",
          "data": {
            "text/html": [
              "<div>\n",
              "<style scoped>\n",
              "    .dataframe tbody tr th:only-of-type {\n",
              "        vertical-align: middle;\n",
              "    }\n",
              "\n",
              "    .dataframe tbody tr th {\n",
              "        vertical-align: top;\n",
              "    }\n",
              "\n",
              "    .dataframe thead th {\n",
              "        text-align: right;\n",
              "    }\n",
              "</style>\n",
              "<table border=\"1\" class=\"dataframe\">\n",
              "  <thead>\n",
              "    <tr style=\"text-align: right;\">\n",
              "      <th></th>\n",
              "      <th>user_id</th>\n",
              "      <th>submission_count</th>\n",
              "      <th>problem_solved</th>\n",
              "      <th>contribution</th>\n",
              "      <th>country</th>\n",
              "      <th>follower_count</th>\n",
              "      <th>last_online_time_seconds</th>\n",
              "      <th>max_rating</th>\n",
              "      <th>rating</th>\n",
              "      <th>rank</th>\n",
              "      <th>registration_time_seconds</th>\n",
              "    </tr>\n",
              "  </thead>\n",
              "  <tbody>\n",
              "    <tr>\n",
              "      <th>0</th>\n",
              "      <td>user_3311</td>\n",
              "      <td>47</td>\n",
              "      <td>40</td>\n",
              "      <td>0</td>\n",
              "      <td>NaN</td>\n",
              "      <td>4</td>\n",
              "      <td>1504111645</td>\n",
              "      <td>348.337</td>\n",
              "      <td>330.849</td>\n",
              "      <td>intermediate</td>\n",
              "      <td>1466686436</td>\n",
              "    </tr>\n",
              "    <tr>\n",
              "      <th>1</th>\n",
              "      <td>user_3028</td>\n",
              "      <td>63</td>\n",
              "      <td>52</td>\n",
              "      <td>0</td>\n",
              "      <td>India</td>\n",
              "      <td>17</td>\n",
              "      <td>1498998165</td>\n",
              "      <td>405.677</td>\n",
              "      <td>339.450</td>\n",
              "      <td>intermediate</td>\n",
              "      <td>1441893325</td>\n",
              "    </tr>\n",
              "    <tr>\n",
              "      <th>2</th>\n",
              "      <td>user_2268</td>\n",
              "      <td>226</td>\n",
              "      <td>203</td>\n",
              "      <td>-8</td>\n",
              "      <td>Egypt</td>\n",
              "      <td>24</td>\n",
              "      <td>1505566052</td>\n",
              "      <td>307.339</td>\n",
              "      <td>284.404</td>\n",
              "      <td>beginner</td>\n",
              "      <td>1454267603</td>\n",
              "    </tr>\n",
              "    <tr>\n",
              "      <th>3</th>\n",
              "      <td>user_480</td>\n",
              "      <td>611</td>\n",
              "      <td>490</td>\n",
              "      <td>1</td>\n",
              "      <td>Ukraine</td>\n",
              "      <td>94</td>\n",
              "      <td>1505257499</td>\n",
              "      <td>525.803</td>\n",
              "      <td>471.330</td>\n",
              "      <td>advanced</td>\n",
              "      <td>1350720417</td>\n",
              "    </tr>\n",
              "    <tr>\n",
              "      <th>4</th>\n",
              "      <td>user_650</td>\n",
              "      <td>504</td>\n",
              "      <td>479</td>\n",
              "      <td>12</td>\n",
              "      <td>Russia</td>\n",
              "      <td>4</td>\n",
              "      <td>1496613433</td>\n",
              "      <td>548.739</td>\n",
              "      <td>486.525</td>\n",
              "      <td>advanced</td>\n",
              "      <td>1395560498</td>\n",
              "    </tr>\n",
              "  </tbody>\n",
              "</table>\n",
              "</div>"
            ],
            "text/plain": [
              "     user_id  submission_count  ...          rank  registration_time_seconds\n",
              "0  user_3311                47  ...  intermediate                 1466686436\n",
              "1  user_3028                63  ...  intermediate                 1441893325\n",
              "2  user_2268               226  ...      beginner                 1454267603\n",
              "3   user_480               611  ...      advanced                 1350720417\n",
              "4   user_650               504  ...      advanced                 1395560498\n",
              "\n",
              "[5 rows x 11 columns]"
            ]
          },
          "metadata": {
            "tags": []
          },
          "execution_count": 11
        }
      ]
    },
    {
      "cell_type": "code",
      "metadata": {
        "colab_type": "code",
        "outputId": "5a4925aa-ac79-493b-8575-ad9ba03d1663",
        "id": "tizOq8jiP5_K",
        "colab": {
          "base_uri": "https://localhost:8080/",
          "height": 390
        }
      },
      "source": [
        "user.sample(5).T"
      ],
      "execution_count": 0,
      "outputs": [
        {
          "output_type": "execute_result",
          "data": {
            "text/html": [
              "<div>\n",
              "<style scoped>\n",
              "    .dataframe tbody tr th:only-of-type {\n",
              "        vertical-align: middle;\n",
              "    }\n",
              "\n",
              "    .dataframe tbody tr th {\n",
              "        vertical-align: top;\n",
              "    }\n",
              "\n",
              "    .dataframe thead th {\n",
              "        text-align: right;\n",
              "    }\n",
              "</style>\n",
              "<table border=\"1\" class=\"dataframe\">\n",
              "  <thead>\n",
              "    <tr style=\"text-align: right;\">\n",
              "      <th></th>\n",
              "      <th>3268</th>\n",
              "      <th>294</th>\n",
              "      <th>2375</th>\n",
              "      <th>434</th>\n",
              "      <th>1552</th>\n",
              "    </tr>\n",
              "  </thead>\n",
              "  <tbody>\n",
              "    <tr>\n",
              "      <th>user_id</th>\n",
              "      <td>user_3506</td>\n",
              "      <td>user_3185</td>\n",
              "      <td>user_1879</td>\n",
              "      <td>user_2431</td>\n",
              "      <td>user_3226</td>\n",
              "    </tr>\n",
              "    <tr>\n",
              "      <th>submission_count</th>\n",
              "      <td>107</td>\n",
              "      <td>171</td>\n",
              "      <td>270</td>\n",
              "      <td>178</td>\n",
              "      <td>436</td>\n",
              "    </tr>\n",
              "    <tr>\n",
              "      <th>problem_solved</th>\n",
              "      <td>77</td>\n",
              "      <td>116</td>\n",
              "      <td>226</td>\n",
              "      <td>154</td>\n",
              "      <td>385</td>\n",
              "    </tr>\n",
              "    <tr>\n",
              "      <th>contribution</th>\n",
              "      <td>0</td>\n",
              "      <td>2</td>\n",
              "      <td>20</td>\n",
              "      <td>3</td>\n",
              "      <td>-19</td>\n",
              "    </tr>\n",
              "    <tr>\n",
              "      <th>country</th>\n",
              "      <td>NaN</td>\n",
              "      <td>Kazakhstan</td>\n",
              "      <td>NaN</td>\n",
              "      <td>China</td>\n",
              "      <td>Kazakhstan</td>\n",
              "    </tr>\n",
              "    <tr>\n",
              "      <th>follower_count</th>\n",
              "      <td>0</td>\n",
              "      <td>50</td>\n",
              "      <td>24</td>\n",
              "      <td>21</td>\n",
              "      <td>25</td>\n",
              "    </tr>\n",
              "    <tr>\n",
              "      <th>last_online_time_seconds</th>\n",
              "      <td>1501774775</td>\n",
              "      <td>1495985840</td>\n",
              "      <td>1499797432</td>\n",
              "      <td>1505519933</td>\n",
              "      <td>1505563367</td>\n",
              "    </tr>\n",
              "    <tr>\n",
              "      <th>max_rating</th>\n",
              "      <td>305.333</td>\n",
              "      <td>383.028</td>\n",
              "      <td>320.528</td>\n",
              "      <td>486.525</td>\n",
              "      <td>321.961</td>\n",
              "    </tr>\n",
              "    <tr>\n",
              "      <th>rating</th>\n",
              "      <td>302.466</td>\n",
              "      <td>347.19</td>\n",
              "      <td>218.75</td>\n",
              "      <td>454.702</td>\n",
              "      <td>306.193</td>\n",
              "    </tr>\n",
              "    <tr>\n",
              "      <th>rank</th>\n",
              "      <td>beginner</td>\n",
              "      <td>intermediate</td>\n",
              "      <td>beginner</td>\n",
              "      <td>intermediate</td>\n",
              "      <td>beginner</td>\n",
              "    </tr>\n",
              "    <tr>\n",
              "      <th>registration_time_seconds</th>\n",
              "      <td>1476642256</td>\n",
              "      <td>1360078434</td>\n",
              "      <td>1454516495</td>\n",
              "      <td>1467353092</td>\n",
              "      <td>1442393976</td>\n",
              "    </tr>\n",
              "  </tbody>\n",
              "</table>\n",
              "</div>"
            ],
            "text/plain": [
              "                                 3268          294   ...          434         1552\n",
              "user_id                     user_3506     user_3185  ...     user_2431   user_3226\n",
              "submission_count                  107           171  ...           178         436\n",
              "problem_solved                     77           116  ...           154         385\n",
              "contribution                        0             2  ...             3         -19\n",
              "country                           NaN    Kazakhstan  ...         China  Kazakhstan\n",
              "follower_count                      0            50  ...            21          25\n",
              "last_online_time_seconds   1501774775    1495985840  ...    1505519933  1505563367\n",
              "max_rating                    305.333       383.028  ...       486.525     321.961\n",
              "rating                        302.466        347.19  ...       454.702     306.193\n",
              "rank                         beginner  intermediate  ...  intermediate    beginner\n",
              "registration_time_seconds  1476642256    1360078434  ...    1467353092  1442393976\n",
              "\n",
              "[11 rows x 5 columns]"
            ]
          },
          "metadata": {
            "tags": []
          },
          "execution_count": 39
        }
      ]
    },
    {
      "cell_type": "code",
      "metadata": {
        "colab_type": "code",
        "outputId": "ad1c9326-649d-48af-ff8d-b31c96ec3c7c",
        "id": "OvLTD15oP56L",
        "colab": {
          "base_uri": "https://localhost:8080/",
          "height": 173
        }
      },
      "source": [
        "problem.sample(5).T"
      ],
      "execution_count": 0,
      "outputs": [
        {
          "output_type": "execute_result",
          "data": {
            "text/html": [
              "<div>\n",
              "<style scoped>\n",
              "    .dataframe tbody tr th:only-of-type {\n",
              "        vertical-align: middle;\n",
              "    }\n",
              "\n",
              "    .dataframe tbody tr th {\n",
              "        vertical-align: top;\n",
              "    }\n",
              "\n",
              "    .dataframe thead th {\n",
              "        text-align: right;\n",
              "    }\n",
              "</style>\n",
              "<table border=\"1\" class=\"dataframe\">\n",
              "  <thead>\n",
              "    <tr style=\"text-align: right;\">\n",
              "      <th></th>\n",
              "      <th>3663</th>\n",
              "      <th>4222</th>\n",
              "      <th>3778</th>\n",
              "      <th>2677</th>\n",
              "      <th>3915</th>\n",
              "    </tr>\n",
              "  </thead>\n",
              "  <tbody>\n",
              "    <tr>\n",
              "      <th>problem_id</th>\n",
              "      <td>prob_2729</td>\n",
              "      <td>prob_5363</td>\n",
              "      <td>prob_1025</td>\n",
              "      <td>prob_2284</td>\n",
              "      <td>prob_6525</td>\n",
              "    </tr>\n",
              "    <tr>\n",
              "      <th>level_type</th>\n",
              "      <td>E</td>\n",
              "      <td>A</td>\n",
              "      <td>M</td>\n",
              "      <td>A</td>\n",
              "      <td>H</td>\n",
              "    </tr>\n",
              "    <tr>\n",
              "      <th>points</th>\n",
              "      <td>NaN</td>\n",
              "      <td>500</td>\n",
              "      <td>NaN</td>\n",
              "      <td>500</td>\n",
              "      <td>NaN</td>\n",
              "    </tr>\n",
              "    <tr>\n",
              "      <th>tags</th>\n",
              "      <td>NaN</td>\n",
              "      <td>geometry</td>\n",
              "      <td>NaN</td>\n",
              "      <td>dp,graph matchings,greedy</td>\n",
              "      <td>NaN</td>\n",
              "    </tr>\n",
              "  </tbody>\n",
              "</table>\n",
              "</div>"
            ],
            "text/plain": [
              "                 3663       4222  ...                       2677       3915\n",
              "problem_id  prob_2729  prob_5363  ...                  prob_2284  prob_6525\n",
              "level_type          E          A  ...                          A          H\n",
              "points            NaN        500  ...                        500        NaN\n",
              "tags              NaN   geometry  ...  dp,graph matchings,greedy        NaN\n",
              "\n",
              "[4 rows x 5 columns]"
            ]
          },
          "metadata": {
            "tags": []
          },
          "execution_count": 40
        }
      ]
    },
    {
      "cell_type": "code",
      "metadata": {
        "colab_type": "code",
        "outputId": "e5f03def-ca34-4812-faca-8c009236d27b",
        "id": "oHoszB6YP51H",
        "colab": {
          "base_uri": "https://localhost:8080/",
          "height": 142
        }
      },
      "source": [
        "submission.sample(5).T"
      ],
      "execution_count": 0,
      "outputs": [
        {
          "output_type": "execute_result",
          "data": {
            "text/html": [
              "<div>\n",
              "<style scoped>\n",
              "    .dataframe tbody tr th:only-of-type {\n",
              "        vertical-align: middle;\n",
              "    }\n",
              "\n",
              "    .dataframe tbody tr th {\n",
              "        vertical-align: top;\n",
              "    }\n",
              "\n",
              "    .dataframe thead th {\n",
              "        text-align: right;\n",
              "    }\n",
              "</style>\n",
              "<table border=\"1\" class=\"dataframe\">\n",
              "  <thead>\n",
              "    <tr style=\"text-align: right;\">\n",
              "      <th></th>\n",
              "      <th>35748</th>\n",
              "      <th>77374</th>\n",
              "      <th>72304</th>\n",
              "      <th>19099</th>\n",
              "      <th>145537</th>\n",
              "    </tr>\n",
              "  </thead>\n",
              "  <tbody>\n",
              "    <tr>\n",
              "      <th>user_id</th>\n",
              "      <td>user_2981</td>\n",
              "      <td>user_1466</td>\n",
              "      <td>user_836</td>\n",
              "      <td>user_2879</td>\n",
              "      <td>user_2855</td>\n",
              "    </tr>\n",
              "    <tr>\n",
              "      <th>problem_id</th>\n",
              "      <td>prob_2757</td>\n",
              "      <td>prob_133</td>\n",
              "      <td>prob_3430</td>\n",
              "      <td>prob_4835</td>\n",
              "      <td>prob_4039</td>\n",
              "    </tr>\n",
              "    <tr>\n",
              "      <th>attempts_range</th>\n",
              "      <td>2</td>\n",
              "      <td>1</td>\n",
              "      <td>3</td>\n",
              "      <td>2</td>\n",
              "      <td>1</td>\n",
              "    </tr>\n",
              "  </tbody>\n",
              "</table>\n",
              "</div>"
            ],
            "text/plain": [
              "                   35748      77374      72304      19099      145537\n",
              "user_id         user_2981  user_1466   user_836  user_2879  user_2855\n",
              "problem_id      prob_2757   prob_133  prob_3430  prob_4835  prob_4039\n",
              "attempts_range          2          1          3          2          1"
            ]
          },
          "metadata": {
            "tags": []
          },
          "execution_count": 41
        }
      ]
    },
    {
      "cell_type": "code",
      "metadata": {
        "colab_type": "code",
        "id": "bDIEXeJSP5vp",
        "colab": {}
      },
      "source": [
        "user['country'] = user['country'].fillna('Non')"
      ],
      "execution_count": 0,
      "outputs": []
    },
    {
      "cell_type": "code",
      "metadata": {
        "id": "RjqKe5cY8G4r",
        "colab_type": "code",
        "outputId": "c29b1f9a-ca9e-4972-ee4d-0b0b1de90264",
        "colab": {
          "base_uri": "https://localhost:8080/",
          "height": 221
        }
      },
      "source": [
        "user['country'].value_counts()"
      ],
      "execution_count": 0,
      "outputs": [
        {
          "output_type": "execute_result",
          "data": {
            "text/plain": [
              "Non                       1153\n",
              "India                      619\n",
              "Bangladesh                 329\n",
              "Russia                     262\n",
              "China                      162\n",
              "                          ... \n",
              "Bosnia and Herzegovina       1\n",
              "France                       1\n",
              "Costa Rica                   1\n",
              "Iceland                      1\n",
              "Trinidad and Tobago          1\n",
              "Name: country, Length: 80, dtype: int64"
            ]
          },
          "metadata": {
            "tags": []
          },
          "execution_count": 15
        }
      ]
    }
  ]
}